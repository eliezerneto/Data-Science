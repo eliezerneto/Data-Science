{
  "nbformat": 4,
  "nbformat_minor": 0,
  "metadata": {
    "colab": {
      "name": "Transformação de Dados.ipynb",
      "provenance": [],
      "collapsed_sections": []
    },
    "kernelspec": {
      "name": "python3",
      "display_name": "Python 3"
    },
    "language_info": {
      "name": "python"
    }
  },
  "cells": [
    {
      "cell_type": "markdown",
      "metadata": {
        "id": "_zJeigaPu5fz"
      },
      "source": [
        "# Transformação de Dados"
      ]
    },
    {
      "cell_type": "code",
      "metadata": {
        "colab": {
          "base_uri": "https://localhost:8080/"
        },
        "id": "lmsElhsau49K",
        "outputId": "8afd2d77-f5e8-4376-94e9-02a1dc21e46c"
      },
      "source": [
        "# Expandir a coluna num mesmo dataframe;\n",
        "\n",
        "# Estratégia utilizada: Percorrer o DataFrame por linha, \n",
        "# normalizar a coluna aninhada e unir ao DataFrame anterior, \n",
        "# duplicando as linhas originais.\n",
        "\n",
        "import pandas as pd\n",
        "from pandas import json_normalize\n",
        "from ast import literal_eval\n",
        "\n",
        "# Leitura do arquivo JSON\n",
        "df = pd.read_json('data.json')\n",
        "\n",
        "# Declarar a coluna aninhada. \n",
        "# É possível fazer uma adaptação aqui para trabalharmos \n",
        "# com mais de uma coluna aninhada ao mesmo tempo\n",
        "\n",
        "nested_column = 'ItemList' \n",
        "\n",
        "df_result = pd.DataFrame()\n",
        "\n",
        "for index_row in df.index:\n",
        "\n",
        "  # Selecionar um registro\n",
        "  df_row = df[df.index == index_row]\n",
        "  \n",
        "  # Transformar a coluna aninhada da linha selecionada em DataFrame\n",
        "  df_column_normalized = json_normalize(df_row[nested_column].explode())\n",
        "  \n",
        "  # Deletar a coluna aninhada do DataFrame original\n",
        "  df_row = df_row.drop(nested_column, axis=1)\n",
        "\n",
        "  # Unir o DataFrame original ao novo DataFrame da coluna aninhada\n",
        "  df_joined = df_row.join(df_column_normalized, how='outer')\n",
        "  \n",
        "  # Preencher as demais linhas com os valores originais\n",
        "  for column in df_row.columns:\n",
        "    df_joined[column].fillna(df_row[column].values[0], inplace=True)\n",
        "\n",
        "  # Unir o DataFrame obtido da linha com os demais resultados\n",
        "  df_result = pd.concat([df_result, df_joined])\n",
        "  \n",
        "print(df_result)"
      ],
      "execution_count": 24,
      "outputs": [
        {
          "output_type": "stream",
          "name": "stdout",
          "text": [
            "               CreateDate         EmissionDate  Discount  NFeNumber  NFeID   ProductName  Value  Quantity\n",
            "0  2021-05-24T20:21:34.79  2021-05-24T00:00:00       0.0      501.0    1.0          Rice  35.55         2\n",
            "1  2021-05-24T20:21:34.79  2021-05-24T00:00:00       0.0      501.0    1.0         Flour  11.55         5\n",
            "2  2021-05-24T20:21:34.79  2021-05-24T00:00:00       0.0      501.0    1.0          Bean  27.15         7\n",
            "0  2021-05-24T20:21:34.79  2021-05-24T00:00:00       0.0      502.0    2.0        Tomate  12.25        10\n",
            "1  2021-05-24T20:21:34.79  2021-05-24T00:00:00       0.0      502.0    2.0         Pasta   7.55         5\n",
            "0  2021-05-24T20:21:34.79  2021-05-24T00:00:00       0.0      503.0    3.0          Beer   9.00         6\n",
            "1  2021-05-24T20:21:34.79  2021-05-24T00:00:00       0.0      503.0    3.0  French fries  10.99         2\n",
            "2  2021-05-24T20:21:34.79  2021-05-24T00:00:00       0.0      503.0    3.0     Ice cream  27.15         1\n"
          ]
        }
      ]
    },
    {
      "cell_type": "code",
      "metadata": {
        "colab": {
          "base_uri": "https://localhost:8080/"
        },
        "id": "9jtmWA2CtxQv",
        "outputId": "8f0909be-3b9b-47e5-faef-77d7dafcfdf2"
      },
      "source": [
        "# Normalizar os itens dessa coluna de dicionário e dividí-los em dois dataframes separados, seguindo o modelo relacional.\n",
        "\n",
        "# Observação: Pelo texto do cenário, comprendo que a coluna aninhada será dividia em dois DataFrames, totalizando três DataFrames. \n",
        "# Dessa forma, poderemos ter uma relação N:N e não somente 1:N, se tivéssemos apenas dois no total.\n",
        "# Nesse entendimento, teremos três DataFrames, um para o cabeçalho da NFe, um para os itens da NFe, com apenas o código dos produtos, quantitativos e valor. \n",
        "# Optamos por manter o valor no detalhamento da nota, umas vez que podemos ter o mesmo produto com valores diferentes, dependendo dos reajustes de preço.\n",
        "\n",
        "# Estratégia: \n",
        "# 1) A partir do DataFrame anterior, extrair o DataFrame do detalhamento da NFe\n",
        "# 2) Percorrer o DataFrame do detalhamento da NFe e montar o DataFrame de Produtos\n",
        "\n",
        "# Cabeçalho da NFe\n",
        "df_cabecalho_NFe = df.drop('ItemList', axis=1)\n",
        "\n",
        "# Detalhamento da NFe\n",
        "df_detalhamento_NFe = df_result[['NFeID', 'ProductName', 'Value', 'Quantity']]\n",
        "\n",
        "# Até este momento, temos dois DataFrames, temos o cabeçalho da NFe e seu detalhamento. Com cardinalidade 1:N.\n",
        "# Entendo que este seria o formato ideal para ganho de produtividade nas análises, porém ainda não atende ao solicitado. \n",
        "# Uma vez que pode haver duplicidade no nome do produto, ou seja, não há ainda normalização por completo.\n",
        "\n",
        "# Criação do DataFrame de Produtos, apenas com Código e Nome do produto\n",
        "df_produtos = df_detalhamento_NFe['ProductName'].unique()\n",
        "df_produtos = pd.DataFrame(df_produtos, columns = ['ProductName'])\n",
        "df_produtos.insert(0, 'ProductID', range(0, len(df_produtos)))\n",
        "\n",
        "# Normalização do DataFrame de detalhamento da NFe\n",
        "df_detalhamento_NFe = df_detalhamento_NFe.merge(df_produtos,how='left', on='ProductName')\n",
        "df_detalhamento_NFe = df_detalhamento_NFe.drop('ProductName', axis=1)\n",
        "\n",
        "print('\\nDataFrame de Produtos: \\n')\n",
        "print(df_produtos)\n",
        "print('\\nDataFrame do Cabeçalho da NFe: \\n')\n",
        "print(df_cabecalho_NFe)\n",
        "print('\\nDataFrame do Detalhamento da NFe: \\n')\n",
        "print(df_detalhamento_NFe)"
      ],
      "execution_count": 57,
      "outputs": [
        {
          "output_type": "stream",
          "name": "stdout",
          "text": [
            "\n",
            "DataFrame de Produtos: \n",
            "\n",
            "   ProductID   ProductName\n",
            "0          0          Rice\n",
            "1          1         Flour\n",
            "2          2          Bean\n",
            "3          3        Tomate\n",
            "4          4         Pasta\n",
            "5          5          Beer\n",
            "6          6  French fries\n",
            "7          7     Ice cream\n",
            "\n",
            "DataFrame do Cabeçalho da NFe: \n",
            "\n",
            "               CreateDate         EmissionDate  Discount  NFeNumber  NFeID\n",
            "0  2021-05-24T20:21:34.79  2021-05-24T00:00:00         0        501      1\n",
            "1  2021-05-24T20:21:34.79  2021-05-24T00:00:00         0        502      2\n",
            "2  2021-05-24T20:21:34.79  2021-05-24T00:00:00         0        503      3\n",
            "\n",
            "DataFrame do Detalhamento da NFe: \n",
            "\n",
            "   NFeID  Value  Quantity  ProductID\n",
            "0    1.0  35.55         2          0\n",
            "1    1.0  11.55         5          1\n",
            "2    1.0  27.15         7          2\n",
            "3    2.0  12.25        10          3\n",
            "4    2.0   7.55         5          4\n",
            "5    3.0   9.00         6          5\n",
            "6    3.0  10.99         2          6\n",
            "7    3.0  27.15         1          7\n"
          ]
        }
      ]
    }
  ]
}